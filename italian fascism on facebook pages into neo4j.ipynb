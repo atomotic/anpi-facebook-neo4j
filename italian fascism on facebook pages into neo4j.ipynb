{
 "cells": [
  {
   "cell_type": "markdown",
   "metadata": {},
   "source": [
    "# Map of italian fascism and right-wing extremism on Facebook pages\n",
    "\n",
    "a collection of likes on facebook pages (not personal accounts!) of italian fascists and right-wing groups has been made and analyzed on this research by [ANPI](https://en.wikipedia.org/wiki/ANPI) (National Association of Italian Partisans):\n",
    "\n",
    "http://patriaindipendente.it/progetto-facebook/  \n",
    "http://patriaindipendente.it/progetto-facebook/doc.html\n",
    "\n",
    "here i try to import this data into neo4j graph database to allow a more detailed discovery.\n",
    "\n",
    "\n",
    "## import of data into neo4j\n",
    "\n",
    "Requirements: neo4j, csvkit, jq\n",
    "\n",
    "macos:\n",
    "\n",
    "    brew install neo4j jq coreutils\n",
    "    pip3 install csvkit\n"
   ]
  },
  {
   "cell_type": "markdown",
   "metadata": {},
   "source": [
    "# download the raw data graph\n",
    "\n",
    "the json is formatted to help reading"
   ]
  },
  {
   "cell_type": "code",
   "execution_count": 2,
   "metadata": {},
   "outputs": [],
   "source": [
    "wget -q http://patriaindipendente.it/progetto-facebook/data.json.zip\n",
    "unzip -q data.json.zip\n",
    "jq . < data.json > graph.json\n",
    "rm data.json*"
   ]
  },
  {
   "cell_type": "markdown",
   "metadata": {},
   "source": [
    "the dataset is licensed under CC BY-NC-ND license [https://creativecommons.org/licenses/by-nc-nd/4.0/]"
   ]
  },
  {
   "cell_type": "code",
   "execution_count": 1,
   "metadata": {},
   "outputs": [
    {
     "name": "stdout",
     "output_type": "stream",
     "text": [
      "\u001b[0;32m\"This dataset is available under CC BY-NC-ND license [https://creativecommons.org/licenses/by-nc-nd/4.0/], when using it you need to give proper credit to Giovanni Baldini <giovanni.baldini@anpi.it>. If interested in using it under a different license please contact the author.\"\u001b[0m\n"
     ]
    }
   ],
   "source": [
    "jq .license graph.json"
   ]
  },
  {
   "cell_type": "markdown",
   "metadata": {},
   "source": [
    "# extract nodes\n",
    "\n",
    "extract nodes from json and convert to csv.  \n",
    "fix the header field."
   ]
  },
  {
   "cell_type": "code",
   "execution_count": 4,
   "metadata": {},
   "outputs": [],
   "source": [
    "jq .nodes graph.json | in2csv -f json > csv/nodes.csv\n",
    "gsed -i '1 s/id/Node:ID/' csv/nodes.csv"
   ]
  },
  {
   "cell_type": "markdown",
   "metadata": {},
   "source": [
    "`csv/nodes.csv` fields:"
   ]
  },
  {
   "cell_type": "code",
   "execution_count": 12,
   "metadata": {},
   "outputs": [
    {
     "name": "stdout",
     "output_type": "stream",
     "text": [
      "  1: load\n",
      "  2: color\n",
      "  3: pic\n",
      "  4: tac\n",
      "  5: in_deg\n",
      "  6: Node:ID\n",
      "  7: triangles\n",
      "  8: clustering\n",
      "  9: group\n",
      " 10: fans\n",
      " 11: label\n",
      " 12: betweenness\n",
      " 13: out_deg\n",
      " 14: pagerank\n",
      " 15: hits-hub\n",
      " 16: x\n",
      " 17: hits-authority\n",
      " 18: u_clustering\n",
      " 19: url\n",
      " 20: p\n",
      " 21: y\n",
      " 22: eigenvector\n"
     ]
    }
   ],
   "source": [
    "csvcut -n csv/nodes.csv"
   ]
  },
  {
   "cell_type": "code",
   "execution_count": 11,
   "metadata": {},
   "outputs": [
    {
     "name": "stdout",
     "output_type": "stream",
     "text": [
      "load,color,pic,tac,in_deg,Node:ID,triangles,clustering,group,fans,label,betweenness,out_deg,pagerank,hits-hub,x,hits-authority,u_clustering,url,p,y,eigenvector\n",
      "0,497173,https://scontent.xx.fbcdn.net/v/t1.0-1/c0.0.50.50/p50x50/10644938_650502445067413_6210163405274532119_n.jpg?oh=ced733b11686df3c242c17e42fa44011&oe=595CDCBF,0,1,650501465067511,0,0,-,0,Corrado Malanga in Suomen Kieli,0,0,0.00004631249396872088,0.00007250182370350222,1259.8876953125,0,0,/CorradoMalangaSuomi/,,1170.2913818359375,1.2093678122051513E-10\n",
      "0,497173,https://scontent.xx.fbcdn.net/v/t1.0-1/p50x50/13516539_534569006746956_216770361829652764_n.jpg?oh=af759ad6c32a4d5699386c00f31a5611&oe=599ABA0A,0,3,164325450437982,3,1,-,0,Bashar Alassad,0,0,0.00004640058845995182,0.00025270053370682793,885.2281494140625,0,1,/DRbasharalassad/,,958.635009765625,8.539171155552731E-10\n"
     ]
    }
   ],
   "source": [
    "head -n 3 csv/nodes.csv"
   ]
  },
  {
   "cell_type": "markdown",
   "metadata": {},
   "source": [
    "# extract edges\n",
    "\n",
    "extract edges (relationships between nodes).  \n",
    "fix the header field."
   ]
  },
  {
   "cell_type": "code",
   "execution_count": 7,
   "metadata": {},
   "outputs": [],
   "source": [
    "jq .edges graph.json | in2csv -f json | csvcut -c 1,3 | awk '{print $1\",LIKE\"}' > csv/edges.csv\n",
    "gsed -i 1d csv/edges.csv\n",
    "gsed -i '1i:END_ID,:START_ID,:TYPE' csv/edges.csv"
   ]
  },
  {
   "cell_type": "markdown",
   "metadata": {},
   "source": [
    "`csv/edges.csv` fields:"
   ]
  },
  {
   "cell_type": "code",
   "execution_count": 13,
   "metadata": {},
   "outputs": [
    {
     "name": "stdout",
     "output_type": "stream",
     "text": [
      "  1: :END_ID\n",
      "  2: :START_ID\n",
      "  3: :TYPE\n"
     ]
    }
   ],
   "source": [
    "csvcut -n csv/edges.csv"
   ]
  },
  {
   "cell_type": "code",
   "execution_count": 14,
   "metadata": {},
   "outputs": [
    {
     "name": "stdout",
     "output_type": "stream",
     "text": [
      ":END_ID,:START_ID,:TYPE\n",
      "370198643136742,535069289865058,LIKE\n",
      "494189513998338,393977967466157,LIKE\n",
      "201275493224544,833352813372167,LIKE\n",
      "599831756702393,636934606389960,LIKE\n"
     ]
    }
   ],
   "source": [
    "head -n 5 csv/edges.csv"
   ]
  },
  {
   "cell_type": "markdown",
   "metadata": {},
   "source": [
    "# import into neo4j\n",
    "\n",
    "import the csv into neo4j"
   ]
  },
  {
   "cell_type": "code",
   "execution_count": 9,
   "metadata": {
    "scrolled": true
   },
   "outputs": [
    {
     "name": "stdout",
     "output_type": "stream",
     "text": [
      "WARNING: neo4j-import is deprecated and support for it will be removed in a future\n",
      "version of Neo4j; please use neo4j-admin import instead.\n",
      "\n",
      "Neo4j version: 3.3.0\n",
      "Importing the contents of these files into graph.db:\n",
      "Nodes:\n",
      "  :Node\n",
      "  /Users/raffaele/fascists-facebook-graph/csv/nodes.csv\n",
      "Relationships:\n",
      "  :LIKE\n",
      "  /Users/raffaele/fascists-facebook-graph/csv/edges.csv\n",
      "\n",
      "Available resources:\n",
      "  Total machine memory: 16.00 GB\n",
      "  Free machine memory: 4.89 GB\n",
      "  Max heap memory : 3.56 GB\n",
      "  Processors: 4\n",
      "  Configured max memory: 1.20 GB\n",
      "\n",
      "Nodes, started 2017-11-17 09:19:33.434+0000\n",
      "[*>:??--------------------------------|NODE:7.|PROPERTIES(2)===============||v:??(2)==========]16.3K ∆16.3K\n",
      "Done in 934ms\n",
      "Prepare node index, started 2017-11-17 09:19:34.462+0000\n",
      "[*DETECT:7.69 MB------------------------------------------------------------------------------]10.0K ∆10.0K\n",
      "Done in 97ms\n",
      "Relationships, started 2017-11-17 09:19:34.585+0000\n",
      "[*>:??------------------------------------|TY|PREPARE(2)========================|RECOR|P|v:??-]54.6K ∆54.6K\n",
      "Done in 454ms\n",
      "Node Degrees, started 2017-11-17 09:19:35.123+0000\n",
      "[>|*>---------------------------------------------------------------|CALCULATE----------------]54.6K ∆54.6K\n",
      "Done in 94ms\n",
      "Relationship --> Relationship  1/1, started 2017-11-17 09:19:35.259+0000\n",
      "[>-----------------|*LINK------------------------------------------------|v:??----------------]55.2K ∆55.2K\n",
      "Done in 81ms\n",
      "RelationshipGroup 1/1, started 2017-11-17 09:19:35.374+0000\n",
      "[*>:??-----------------------------------------------------------------|v:??------------------]3.27K ∆3.27K\n",
      "Done in 10ms\n",
      "Node --> Relationship, started 2017-11-17 09:19:35.397+0000\n",
      "[>:??-----|*>---------------------------------------------------|LINK----|v:??----------------]16.3K ∆16.3K\n",
      "Done in 37ms\n",
      "Relationship --> Relationship 1/1, started 2017-11-17 09:19:35.481+0000\n",
      "[>---------|*LINK----------------------------------------------|v:??--------------------------]55.2K ∆55.2K\n",
      "Done in 64ms\n",
      "Count groups, started 2017-11-17 09:19:35.580+0000\n",
      "[*>-----------------------------------------------------------------|COUNT--------------------]  654 ∆  654\n",
      "Done in 12ms\n",
      "Gather, started 2017-11-17 09:19:35.622+0000\n",
      "[>-----|*CACHE--------------------------------------------------------------------------------]  654 ∆  654\n",
      "Done in 22ms\n",
      "Write, started 2017-11-17 09:19:35.682+0000\n",
      "[*>:??------------------------------------------------------------------|ENCODE|v:??----------]  654 ∆  654\n",
      "Done in 13ms\n",
      "Node --> Group, started 2017-11-17 09:19:35.725+0000\n",
      "[>|>-----------------------|*FIRST----------------------------------------------|v:??---------]  546 ∆  546\n",
      "Done in 11ms\n",
      "Node counts, started 2017-11-17 09:19:35.774+0000\n",
      "[>(4|*COUNT:76.29 MB--------------------------------------------------------------------------]20.0K ∆20.0K\n",
      "Done in 63ms\n",
      "Relationship counts, started 2017-11-17 09:19:35.862+0000\n",
      "[>---------------------------------------------|*COUNT(3)=====================================]60.0K ∆60.0K\n",
      "Done in 47ms\n",
      "\n",
      "IMPORT DONE in 3s 95ms. \n",
      "Imported:\n",
      "  15789 nodes\n",
      "  53026 relationships\n",
      "  333956 properties\n",
      "Peak memory usage: 516.39 MB\n"
     ]
    }
   ],
   "source": [
    "neo4j-import --into graph.db --nodes:Node csv/nodes.csv  --relationships:LIKE csv/edges.csv"
   ]
  },
  {
   "cell_type": "markdown",
   "metadata": {},
   "source": [
    "## replace neo4j default database"
   ]
  },
  {
   "cell_type": "code",
   "execution_count": 15,
   "metadata": {},
   "outputs": [],
   "source": [
    "rm -fr /usr/local/Cellar/neo4j/3.3.0/libexec/data/databases/graph.db"
   ]
  },
  {
   "cell_type": "code",
   "execution_count": 16,
   "metadata": {},
   "outputs": [],
   "source": [
    "mv graph.db /usr/local/Cellar/neo4j/3.3.0/libexec/data/databases/"
   ]
  },
  {
   "cell_type": "markdown",
   "metadata": {},
   "source": [
    "# start neo4j\n",
    "\n",
    "    $ neo4j start"
   ]
  },
  {
   "cell_type": "markdown",
   "metadata": {},
   "source": [
    "# simple queries in cypher"
   ]
  },
  {
   "cell_type": "markdown",
   "metadata": {},
   "source": [
    "1) search nodes label containing a string:"
   ]
  },
  {
   "cell_type": "code",
   "execution_count": 6,
   "metadata": {},
   "outputs": [
    {
     "name": "stdout",
     "output_type": "stream",
     "text": [
      "n.label, n.url\n",
      "\"Forza Nuova Sardegna\", \"/forza.nuova.sardegna/\"\n",
      "\"Forza Nuova Disabilità\", \"/Forza-Nuova-Disabilità-1563170127292287/\"\n",
      "\"Forza Nuova Borgomanero\", \"/Forza-Nuova-Borgomanero-174543319382224/\"\n",
      "\"Forza Nuova Paternò - CT\", \"/ForzaNuovaPaterno/\"\n",
      "\"Forza Nuova Biella\", \"/Forza-Nuova-Biella-732281886816134/\"\n",
      "\"Forza Nuova Livorno\", \"/ForzaNuovaProvinciaLivorno/\"\n",
      "\"Forza Nuova Merano\", \"/forzanuova.info/\"\n",
      "\"Forza Nuova Nova Milanese\", \"/forzanuova.novamilanese/\"\n",
      "\"Forza Nuova Eboli - Campagna\", \"/ForzaNuovaEboli/\"\n",
      "\"Forza Nuova Agropoli\", \"/ForzaNuovaAgropoli/\"\n",
      "\"Forza Nuova Roseto\", \"/Forza-Nuova-Roseto-435464570179127/\"\n",
      "\"Forza Nuova Manerbio\", \"/forzanuova.Manerbio/\"\n",
      "\"Forza Nuova Bressanone - Brixen\", \"/ForzaNuovaBressanone/\"\n",
      "\"Forza Nuova Ciriè\", \"/GabriFn.Nasi/\"\n",
      "\"Forza Nuova Taranto\", \"/ForzaNuovaTaranto/\"\n",
      "\"Forza Nuova Padova\", \"/Forza-Nuova-Padova-225234430878587/\"\n",
      "\"Forza Nuova Alba\", \"/Forza-Nuova-Alba-496842513729908/\"\n",
      "\"Forza Nuova Orta Nova\", \"/ForzaNuovaOrtanovaStornaraStornarellaOrdonaCarapel/\"\n",
      "\"Forza Nuova Alto Polesine\", \"/ForzaNuovaAltoPolesine/\"\n",
      "\"Forza Nuova Trentino Alto Adige\", \"/ForzaNuovaTrentinoAltoAdige/\"\n"
     ]
    }
   ],
   "source": [
    "cypher-shell --format plain 'MATCH (n) WHERE n.label CONTAINS \"Forza Nuova\" RETURN n.label, n.url LIMIT 20'"
   ]
  },
  {
   "cell_type": "markdown",
   "metadata": {},
   "source": [
    "2) top 10 likers:"
   ]
  },
  {
   "cell_type": "code",
   "execution_count": 3,
   "metadata": {},
   "outputs": [
    {
     "name": "stdout",
     "output_type": "stream",
     "text": [
      "+-------------------------------------------------------------+\n",
      "| node.label                                    | COUNT(like) |\n",
      "+-------------------------------------------------------------+\n",
      "| \"Interforze Cosmo1\"                           | 4207        |\n",
      "| \"NuovaForza Monteclarense\"                    | 2290        |\n",
      "| \"Destra Nazionalista\"                         | 2250        |\n",
      "| \"Opposizione Popolare\"                        | 965         |\n",
      "| \"Pensiero indipendente\"                       | 633         |\n",
      "| \"Nessuna Resa\"                                | 561         |\n",
      "| \"Gioventù Maceratese\"                         | 452         |\n",
      "| \"Rock Nazionalista\"                           | 419         |\n",
      "| \"Faro Francesco Crispi 1924 - Capo Guardafui\" | 320         |\n",
      "| \"Voice Of A Generation - Skinzine\"            | 306         |\n",
      "+-------------------------------------------------------------+\n",
      "\n",
      "10 rows available after 122 ms, consumed after another 0 ms\n"
     ]
    }
   ],
   "source": [
    "cypher-shell \\\n",
    "\"MATCH (node)-[like]->()\n",
    "RETURN node.label, COUNT(like)\n",
    "ORDER BY COUNT(like) DESC\n",
    "LIMIT 10\""
   ]
  },
  {
   "cell_type": "markdown",
   "metadata": {},
   "source": [
    "3) top 10 liked:"
   ]
  },
  {
   "cell_type": "code",
   "execution_count": 4,
   "metadata": {},
   "outputs": [
    {
     "name": "stdout",
     "output_type": "stream",
     "text": [
      "+---------------------------------------+\n",
      "| node.label             | COUNT(liked) |\n",
      "+---------------------------------------+\n",
      "| \"Forza Nuova\"          | 421          |\n",
      "| \"CasaPound Italia\"     | 420          |\n",
      "| \"Roberto Fiore\"        | 197          |\n",
      "| \"Blocco Studentesco\"   | 192          |\n",
      "| \"Lotta Studentesca\"    | 189          |\n",
      "| \"Simone Di Stefano\"    | 173          |\n",
      "| \"Gianluca Iannone\"     | 167          |\n",
      "| \"Il Primato Nazionale\" | 167          |\n",
      "| \"Radio Bandiera Nera\"  | 163          |\n",
      "| \"Giorgio Almirante\"    | 154          |\n",
      "+---------------------------------------+\n",
      "\n",
      "10 rows available after 133 ms, consumed after another 0 ms\n"
     ]
    }
   ],
   "source": [
    "cypher-shell \\\n",
    "\"MATCH ()-[liked]->(node)\n",
    "RETURN node.label, COUNT(liked)\n",
    "ORDER BY COUNT(liked) DESC\n",
    "LIMIT 10\""
   ]
  }
 ],
 "metadata": {
  "kernelspec": {
   "display_name": "Bash",
   "language": "bash",
   "name": "bash"
  },
  "language_info": {
   "codemirror_mode": "shell",
   "file_extension": ".sh",
   "mimetype": "text/x-sh",
   "name": "bash"
  }
 },
 "nbformat": 4,
 "nbformat_minor": 2
}
